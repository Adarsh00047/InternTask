{
 "cells": [
  {
   "cell_type": "code",
   "execution_count": 1,
   "metadata": {},
   "outputs": [],
   "source": [
    "from google.oauth2 import service_account\n",
    "from google.cloud import vision\n",
    "import argparse\n",
    "import cv2\n",
    "import io"
   ]
  },
  {
   "cell_type": "code",
   "execution_count": 2,
   "metadata": {},
   "outputs": [],
   "source": [
    "# def draw_ocr_results(image, text, rect, color=(0, 255, 0)):\n",
    "# \t# unpacking the bounding box rectangle and draw a bounding box\n",
    "# \t# surrounding the text along with the OCR'd text itself\n",
    "# \t(startX, startY, endX, endY) = rect\n",
    "# \tcv2.rectangle(image, (startX, startY), (endX, endY), color, 2)\n",
    "# \tcv2.putText(image, text, (startX, startY - 10),\n",
    "# \t\tcv2.FONT_HERSHEY_SIMPLEX, 0.8, color, 2)\n",
    "# \t# return the output image\n",
    "# \treturn image"
   ]
  },
  {
   "cell_type": "code",
   "execution_count": 3,
   "metadata": {},
   "outputs": [],
   "source": [
    "# create the client interface to access the Google Cloud Vision API\n",
    "credentials = service_account.Credentials.from_service_account_file(\n",
    "\tfilename=\"app\\\\google_cloud_creds.json\",\n",
    "\tscopes=[\"https://www.googleapis.com/auth/cloud-platform\"])\n",
    "client = vision.ImageAnnotatorClient(credentials=credentials)\n",
    "# load the input image as a raw binary file (this file will be\n",
    "# submitted to the Google Cloud Vision API)\n",
    "with io.open(\"wring.jpg\", \"rb\") as f:\n",
    "\tbyteImage = f.read()"
   ]
  },
  {
   "cell_type": "code",
   "execution_count": 4,
   "metadata": {},
   "outputs": [
    {
     "name": "stdout",
     "output_type": "stream",
     "text": [
      "[INFO] making request to Google Cloud Vision API...\n"
     ]
    }
   ],
   "source": [
    "print(\"[INFO] making request to Google Cloud Vision API...\")\n",
    "image = vision.Image(content=byteImage)\n",
    "response = client.text_detection(image=image)\n",
    "# check to see if there was an error when making a request to the API\n",
    "if response.error.message:\n",
    "\traise Exception(\n",
    "\t\t\"{}\\nFor more info on errors, check:\\n\"\n",
    "\t\t\"https://cloud.google.com/apis/design/errors\".format(\n",
    "\t\t\tresponse.error.message))"
   ]
  },
  {
   "cell_type": "code",
   "execution_count": 5,
   "metadata": {},
   "outputs": [],
   "source": [
    "# image = cv2.imread(\"images\\\\voterid_1.jpg\")\n",
    "# final = image.copy()\n",
    "# for text in response.text_annotations[1::]:\n",
    "# \t# grab the OCR'd text and extract the bounding box coordinates of\n",
    "# \t# the text region\n",
    "# \tocr = text.description\n",
    "# \tstartX = text.bounding_poly.vertices[0].x\n",
    "# \tstartY = text.bounding_poly.vertices[0].y\n",
    "# \tendX = text.bounding_poly.vertices[1].x\n",
    "# \tendY = text.bounding_poly.vertices[2].y\n",
    "# \t# construct a bounding box rectangle from the box coordinates\n",
    "# \trect = (startX, startY, endX, endY)\n",
    "# \t\t# draw the output OCR line-by-line\n",
    "# \toutput = image.copy()\n",
    "# \toutput = draw_ocr_results(output, ocr, rect)\n",
    "# \tfinal = draw_ocr_results(final, ocr, rect)\n",
    "# \t# show the output OCR'd line\n",
    "# \tprint(ocr)\n",
    "# # show the final output image\n",
    "# cv2.imshow(\"Final Output\", final)\n",
    "# cv2.waitKey(0)"
   ]
  },
  {
   "cell_type": "code",
   "execution_count": 6,
   "metadata": {},
   "outputs": [],
   "source": [
    "ocr_texts = []\n",
    "for text in response.text_annotations[1::]:\n",
    "    ocr_texts.append(text.description)"
   ]
  },
  {
   "cell_type": "code",
   "execution_count": 7,
   "metadata": {},
   "outputs": [],
   "source": [
    "ocr_texts = [ocr.lower() for ocr in ocr_texts]"
   ]
  },
  {
   "cell_type": "code",
   "execution_count": 8,
   "metadata": {},
   "outputs": [],
   "source": [
    "ocr_texts = \" \".join(ocr_texts)"
   ]
  },
  {
   "cell_type": "code",
   "execution_count": 9,
   "metadata": {},
   "outputs": [
    {
     "data": {
      "text/plain": [
       "'in case this card is lost / found , kindly inform income tax pan services unit , utitsl plot no. 3 , sector 11 , cbd belapur , navi mumbai - 400614 . इस कार्ड के खोने / पाने पर कृपया सूचित करें / लौटाएं : आयकर पैन सेवा यूनीट , यूटीआईटीएसएल प्लाट नं : ३ , सेक्टर ११ , सी.बी.डी.बेलापूर , नवी मुंबई -४०० ६१४ . आधार भारतीय विशिष्ट पहचान प्राधिकरण unique identification authority of india पता : संबोधितः कमलदीप सिंह अरोरा , ए / 602 सुन्दर आंगन , बेवरली पार्क , सिनेमेक्स , कनकिया मिरा रोड ईस्ट , ठाणे , ठाणे , महाराष्ट्र - 401107 1947 address : w / o : kamaldeep singh arora , a / 602 sundar angan , beverly park , cinemax , kanakia mira road east , thane , thane , maharashtra - 401107 2117 0180 0601 help@uidai.gov.in www www.uidai.gov.in'"
      ]
     },
     "execution_count": 9,
     "metadata": {},
     "output_type": "execute_result"
    }
   ],
   "source": [
    "ocr_texts"
   ]
  },
  {
   "cell_type": "markdown",
   "metadata": {},
   "source": [
    "For passport add maybe the \"<\" keyword for search."
   ]
  },
  {
   "cell_type": "code",
   "execution_count": 10,
   "metadata": {},
   "outputs": [],
   "source": [
    "doc_keywords = {\"aadhar\": [\"government of india\", \"unique identification authority\", \"uidai\", \"help@uidai.gov.in\"],\n",
    "                \"pan\": [\"income tax department\", \"permanent account number\", \"pan\", \"income tax pan services unit\"],\n",
    "                \"passport\": [\"nationality\", \"republic of india\", \"country code\"],\n",
    "                \"voter\": [\"election commission of india\", \"epic\", \"elector\", \"elector's\", \"electoral registration officer\"]}"
   ]
  },
  {
   "cell_type": "code",
   "execution_count": 11,
   "metadata": {},
   "outputs": [],
   "source": [
    "def classify_text(text, doc_keywords):\n",
    "    for key, keywords_list in doc_keywords.items():\n",
    "        for keyword in keywords_list:\n",
    "            if keyword in text:\n",
    "                return key\n",
    "    return \"Unclassified\""
   ]
  },
  {
   "cell_type": "code",
   "execution_count": 12,
   "metadata": {},
   "outputs": [],
   "source": [
    "def classify_text(text, doc_keywords):\n",
    "    matching_types = []\n",
    "    for key, keywords_list in doc_keywords.items():\n",
    "        for keyword in keywords_list:\n",
    "            if keyword in text:\n",
    "                matching_types.append(key)\n",
    "\n",
    "    if not matching_types:\n",
    "        return [\"Unclassified\"]\n",
    "    \n",
    "    return list(set(matching_types))"
   ]
  },
  {
   "cell_type": "code",
   "execution_count": 13,
   "metadata": {},
   "outputs": [],
   "source": [
    "doc_type = classify_text(ocr_texts, doc_keywords)"
   ]
  },
  {
   "cell_type": "code",
   "execution_count": 14,
   "metadata": {},
   "outputs": [
    {
     "data": {
      "text/plain": [
       "['pan', 'aadhar']"
      ]
     },
     "execution_count": 14,
     "metadata": {},
     "output_type": "execute_result"
    }
   ],
   "source": [
    "doc_type"
   ]
  },
  {
   "cell_type": "code",
   "execution_count": 15,
   "metadata": {},
   "outputs": [],
   "source": [
    "side = {\n",
    "    \"voter\": \n",
    "    {\n",
    "        \"front\": [\"election commission of india\", \"elector\"],\n",
    "        \"back\": [\"electoral registration officer\"]\n",
    "    },\n",
    "    \"aadhar\":\n",
    "    {\n",
    "        \"front\": [\"government of india\"],\n",
    "        \"back\": [\"unique identification authority\"]\n",
    "    },\n",
    "    \"pan\":\n",
    "    {\n",
    "        \"front\": [\"income tax department of india\"],\n",
    "        \"back\": [\"income tax pan services unit\", \"nsdl\"]\n",
    "    },\n",
    "    \"passport\":\n",
    "    {\n",
    "        \"front\": [\"nationality\", \"republic of india\"],\n",
    "        \"back\": [\"\"]\n",
    "    }\n",
    "}"
   ]
  },
  {
   "cell_type": "code",
   "execution_count": 16,
   "metadata": {},
   "outputs": [
    {
     "data": {
      "text/plain": [
       "['pan', 'aadhar']"
      ]
     },
     "execution_count": 16,
     "metadata": {},
     "output_type": "execute_result"
    }
   ],
   "source": [
    "doc_type"
   ]
  },
  {
   "cell_type": "code",
   "execution_count": 17,
   "metadata": {},
   "outputs": [],
   "source": [
    "def classify_document_side(document_type, text, doc_keywords, side):\n",
    "    classified_side = []\n",
    "    if document_type not in side or document_type not in doc_keywords:\n",
    "        classified_side.append(\"Invalid document type\")\n",
    "        return classified_side\n",
    "\n",
    "    front_keywords = side[document_type][\"front\"]\n",
    "    back_keywords = side[document_type][\"back\"]\n",
    "\n",
    "    front_present = any(keyword in text for keyword in front_keywords)\n",
    "    back_present = any(keyword in text for keyword in back_keywords)\n",
    "\n",
    "    if front_present and back_present:\n",
    "        classified_side.append(\"Front\")\n",
    "        classified_side.append(\"Back\")\n",
    "        return classified_side\n",
    "    elif front_present:\n",
    "        classified_side.append(\"Front\")\n",
    "        return classified_side\n",
    "    elif back_present:\n",
    "        classified_side.append(\"Back\")\n",
    "        return classified_side\n",
    "    else:\n",
    "        classified_side.append(\"Not identified\")\n",
    "        return classified_side"
   ]
  },
  {
   "cell_type": "code",
   "execution_count": 19,
   "metadata": {},
   "outputs": [
    {
     "data": {
      "text/plain": [
       "{'pan': ['Back'], 'aadhar': ['Back']}"
      ]
     },
     "execution_count": 19,
     "metadata": {},
     "output_type": "execute_result"
    },
    {
     "ename": "",
     "evalue": "",
     "output_type": "error",
     "traceback": [
      "\u001b[1;31mThe Kernel crashed while executing code in the the current cell or a previous cell. Please review the code in the cell(s) to identify a possible cause of the failure. Click <a href='https://aka.ms/vscodeJupyterKernelCrash'>here</a> for more info. View Jupyter <a href='command:jupyter.viewOutput'>log</a> for further details."
     ]
    }
   ],
   "source": [
    "response = {}\n",
    "for doc in doc_type:\n",
    "    doc_side = classify_document_side(doc, ocr_texts, doc_keywords, side)\n",
    "    try:\n",
    "        response[doc].extend(doc_side)\n",
    "    except:\n",
    "        response[doc] = doc_side\n",
    "response\n",
    "    \n"
   ]
  },
  {
   "cell_type": "code",
   "execution_count": 4,
   "metadata": {},
   "outputs": [],
   "source": [
    "from PIL import Image"
   ]
  },
  {
   "cell_type": "code",
   "execution_count": 5,
   "metadata": {},
   "outputs": [],
   "source": [
    "image = Image.open(\"pan_front.tiff\")"
   ]
  },
  {
   "cell_type": "code",
   "execution_count": 6,
   "metadata": {},
   "outputs": [],
   "source": [
    "out = image.convert(\"RGB\")\n",
    "out.save(\"sample.jpg\", \"JPEG\")"
   ]
  },
  {
   "cell_type": "code",
   "execution_count": 1,
   "metadata": {},
   "outputs": [],
   "source": [
    "import os"
   ]
  },
  {
   "cell_type": "code",
   "execution_count": 8,
   "metadata": {},
   "outputs": [
    {
     "data": {
      "text/plain": [
       "['out0.jpg',\n",
       " 'out1.jpg',\n",
       " 'out2.jpg',\n",
       " 'out3.jpg',\n",
       " 'out4.jpg',\n",
       " 'out5.jpg',\n",
       " 'out6.jpg',\n",
       " 'out7.jpg',\n",
       " 'out8.jpg']"
      ]
     },
     "execution_count": 8,
     "metadata": {},
     "output_type": "execute_result"
    }
   ],
   "source": [
    "os.listdir(\"tmp2vfqh3f9\")"
   ]
  },
  {
   "cell_type": "code",
   "execution_count": null,
   "metadata": {},
   "outputs": [],
   "source": []
  }
 ],
 "metadata": {
  "kernelspec": {
   "display_name": "msd_intern_task",
   "language": "python",
   "name": "python3"
  },
  "language_info": {
   "codemirror_mode": {
    "name": "ipython",
    "version": 3
   },
   "file_extension": ".py",
   "mimetype": "text/x-python",
   "name": "python",
   "nbconvert_exporter": "python",
   "pygments_lexer": "ipython3",
   "version": "3.11.4"
  }
 },
 "nbformat": 4,
 "nbformat_minor": 2
}
