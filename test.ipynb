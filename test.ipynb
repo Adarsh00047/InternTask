{
 "cells": [
  {
   "cell_type": "code",
   "execution_count": 1,
   "metadata": {},
   "outputs": [],
   "source": [
    "from google.oauth2 import service_account\n",
    "from google.cloud import vision\n",
    "import argparse\n",
    "import cv2\n",
    "import io"
   ]
  },
  {
   "cell_type": "code",
   "execution_count": 2,
   "metadata": {},
   "outputs": [],
   "source": [
    "# def draw_ocr_results(image, text, rect, color=(0, 255, 0)):\n",
    "# \t# unpacking the bounding box rectangle and draw a bounding box\n",
    "# \t# surrounding the text along with the OCR'd text itself\n",
    "# \t(startX, startY, endX, endY) = rect\n",
    "# \tcv2.rectangle(image, (startX, startY), (endX, endY), color, 2)\n",
    "# \tcv2.putText(image, text, (startX, startY - 10),\n",
    "# \t\tcv2.FONT_HERSHEY_SIMPLEX, 0.8, color, 2)\n",
    "# \t# return the output image\n",
    "# \treturn image"
   ]
  },
  {
   "cell_type": "code",
   "execution_count": 3,
   "metadata": {},
   "outputs": [],
   "source": [
    "# create the client interface to access the Google Cloud Vision API\n",
    "credentials = service_account.Credentials.from_service_account_file(\n",
    "\tfilename=\"app\\\\google_cloud_creds.json\",\n",
    "\tscopes=[\"https://www.googleapis.com/auth/cloud-platform\"])\n",
    "client = vision.ImageAnnotatorClient(credentials=credentials)\n",
    "# load the input image as a raw binary file (this file will be\n",
    "# submitted to the Google Cloud Vision API)\n",
    "with io.open(\"aadhar_f_b.jpg\", \"rb\") as f:\n",
    "\tbyteImage = f.read()"
   ]
  },
  {
   "cell_type": "code",
   "execution_count": 4,
   "metadata": {},
   "outputs": [
    {
     "name": "stdout",
     "output_type": "stream",
     "text": [
      "[INFO] making request to Google Cloud Vision API...\n"
     ]
    }
   ],
   "source": [
    "print(\"[INFO] making request to Google Cloud Vision API...\")\n",
    "image = vision.Image(content=byteImage)\n",
    "response = client.text_detection(image=image)\n",
    "# check to see if there was an error when making a request to the API\n",
    "if response.error.message:\n",
    "\traise Exception(\n",
    "\t\t\"{}\\nFor more info on errors, check:\\n\"\n",
    "\t\t\"https://cloud.google.com/apis/design/errors\".format(\n",
    "\t\t\tresponse.error.message))"
   ]
  },
  {
   "cell_type": "code",
   "execution_count": 5,
   "metadata": {},
   "outputs": [],
   "source": [
    "# image = cv2.imread(\"images\\\\voterid_1.jpg\")\n",
    "# final = image.copy()\n",
    "# for text in response.text_annotations[1::]:\n",
    "# \t# grab the OCR'd text and extract the bounding box coordinates of\n",
    "# \t# the text region\n",
    "# \tocr = text.description\n",
    "# \tstartX = text.bounding_poly.vertices[0].x\n",
    "# \tstartY = text.bounding_poly.vertices[0].y\n",
    "# \tendX = text.bounding_poly.vertices[1].x\n",
    "# \tendY = text.bounding_poly.vertices[2].y\n",
    "# \t# construct a bounding box rectangle from the box coordinates\n",
    "# \trect = (startX, startY, endX, endY)\n",
    "# \t\t# draw the output OCR line-by-line\n",
    "# \toutput = image.copy()\n",
    "# \toutput = draw_ocr_results(output, ocr, rect)\n",
    "# \tfinal = draw_ocr_results(final, ocr, rect)\n",
    "# \t# show the output OCR'd line\n",
    "# \tprint(ocr)\n",
    "# # show the final output image\n",
    "# cv2.imshow(\"Final Output\", final)\n",
    "# cv2.waitKey(0)"
   ]
  },
  {
   "cell_type": "code",
   "execution_count": 6,
   "metadata": {},
   "outputs": [],
   "source": [
    "ocr_texts = []\n",
    "for text in response.text_annotations[1::]:\n",
    "    ocr_texts.append(text.description)"
   ]
  },
  {
   "cell_type": "code",
   "execution_count": 7,
   "metadata": {},
   "outputs": [],
   "source": [
    "ocr_texts = [ocr.lower() for ocr in ocr_texts]"
   ]
  },
  {
   "cell_type": "code",
   "execution_count": 8,
   "metadata": {},
   "outputs": [],
   "source": [
    "ocr_texts = \" \".join(ocr_texts)"
   ]
  },
  {
   "cell_type": "code",
   "execution_count": 9,
   "metadata": {},
   "outputs": [
    {
     "data": {
      "text/plain": [
       "'ಆಧಾರ್ ಭಾರತ ಸರ್ಕಾರ government of india ಪ್ರಕಾಶ್ ಡಿ ವಿ prakash dv ಹುಟ್ಟಿದ ವರ್ಷ / year of birth : 1991 ಪುರುಷ / male 6886 8422 9640 ಶ್ರೀಸಾಮಾನ್ಯನ ಅಧಿಕಾರ ಭಾರತೀಯ ವಿಶಿಷ್ಟ ಗುರುತು ಪ್ರಾಧಿಕಾರ unique identification authority of india ಆಧಾರ್ vn : s / o doodle . no noe . address : s / o venkatesh d , no 109 , 1st main road 2nd cross karnataka layout , kurubarahalli , bangalore , basaveshwaranagar , karnataka , 560079 ೧ ನೇ ಮುಖ್ಯ ರಸ್ತೆ ೨ ನೇ ಅಡ್ಡರಸ್ತ ಕರ್ನಾಟಕ ಲೇಔಟ್ , ಕುರುಬರಹಳ್ಳಿ , ಬೆಂಗಳೂರು , ಬಸವೇಶ್ವರನಗರ , ಕರ್ನಾಟಕ , 560079 m 1800 180 1947 help@uidai.gov.in www www.uidai.gov.in po , box no.1947 , bengaluru - 560 001'"
      ]
     },
     "execution_count": 9,
     "metadata": {},
     "output_type": "execute_result"
    }
   ],
   "source": [
    "ocr_texts"
   ]
  },
  {
   "cell_type": "markdown",
   "metadata": {},
   "source": [
    "For passport add maybe the \"<\" keyword for search."
   ]
  },
  {
   "cell_type": "code",
   "execution_count": 10,
   "metadata": {},
   "outputs": [],
   "source": [
    "doc_keywords = {\"aadhar\": [\"government of india\", \"unique identification authority\", \"uidai\", \"help@uidai.gov.in\"],\n",
    "                \"pan\": [\"income tax department\", \"permanent account number\", \"pan\", \"income tax pan services unit\"],\n",
    "                \"passport\": [\"nationality\", \"republic of india\", \"country code\"],\n",
    "                \"voter\": [\"election commission of india\", \"epic\", \"elector\", \"elector's\", \"electoral registration officer\"]}"
   ]
  },
  {
   "cell_type": "code",
   "execution_count": 11,
   "metadata": {},
   "outputs": [],
   "source": [
    "def classify_text(text, doc_keywords):\n",
    "    for key, keywords_list in doc_keywords.items():\n",
    "        for keyword in keywords_list:\n",
    "            if keyword in text:\n",
    "                return key\n",
    "    return \"Unclassified\""
   ]
  },
  {
   "cell_type": "code",
   "execution_count": 12,
   "metadata": {},
   "outputs": [],
   "source": [
    "doc_type = classify_text(ocr_texts, doc_keywords)"
   ]
  },
  {
   "cell_type": "code",
   "execution_count": 17,
   "metadata": {},
   "outputs": [],
   "source": [
    "side = {\n",
    "    \"voter\": \n",
    "    {\n",
    "        \"front\": [\"election commission of india\", \"elector\"],\n",
    "        \"back\": [\"electoral registration officer\"]\n",
    "    },\n",
    "    \"aadhar\":\n",
    "    {\n",
    "        \"front\": [\"government of india\"],\n",
    "        \"back\": [\"unique identification authority\"]\n",
    "    },\n",
    "    \"pan\":\n",
    "    {\n",
    "        \"front\": [\"income tax department of india\"],\n",
    "        \"back\": [\"income tax pan services unit\", \"nsdl\"]\n",
    "    },\n",
    "    \"passport\":\n",
    "    {\n",
    "        \"front\": [\"nationality\", \"republic of india\"],\n",
    "        \"back\": [\"\"]\n",
    "    }\n",
    "}"
   ]
  },
  {
   "cell_type": "code",
   "execution_count": 18,
   "metadata": {},
   "outputs": [
    {
     "data": {
      "text/plain": [
       "'aadhar'"
      ]
     },
     "execution_count": 18,
     "metadata": {},
     "output_type": "execute_result"
    }
   ],
   "source": [
    "doc_type"
   ]
  },
  {
   "cell_type": "code",
   "execution_count": 19,
   "metadata": {},
   "outputs": [],
   "source": [
    "def classify_document_side(document_type, text, doc_keywords, side):\n",
    "    classified_side = []\n",
    "    if document_type not in side or document_type not in doc_keywords:\n",
    "        classified_side.append(\"Invalid document type\")\n",
    "        return classified_side\n",
    "\n",
    "    front_keywords = side[document_type][\"front\"]\n",
    "    back_keywords = side[document_type][\"back\"]\n",
    "\n",
    "    front_present = any(keyword in text for keyword in front_keywords)\n",
    "    back_present = any(keyword in text for keyword in back_keywords)\n",
    "\n",
    "    if front_present and back_present:\n",
    "        classified_side.append(\"Front\")\n",
    "        classified_side.append(\"Back\")\n",
    "        return classified_side\n",
    "    elif front_present:\n",
    "        classified_side.append(\"Front\")\n",
    "        return classified_side\n",
    "    elif back_present:\n",
    "        classified_side.append(\"Back\")\n",
    "        return classified_side\n",
    "    else:\n",
    "        classified_side.append(\"Not identified\")\n",
    "        return classified_side"
   ]
  },
  {
   "cell_type": "code",
   "execution_count": 20,
   "metadata": {},
   "outputs": [
    {
     "data": {
      "text/plain": [
       "['Front', 'Back']"
      ]
     },
     "execution_count": 20,
     "metadata": {},
     "output_type": "execute_result"
    }
   ],
   "source": [
    "classify_document_side(doc_type, ocr_texts, doc_keywords, side)"
   ]
  },
  {
   "cell_type": "code",
   "execution_count": null,
   "metadata": {},
   "outputs": [],
   "source": []
  }
 ],
 "metadata": {
  "kernelspec": {
   "display_name": "msd_intern_task",
   "language": "python",
   "name": "python3"
  },
  "language_info": {
   "codemirror_mode": {
    "name": "ipython",
    "version": 3
   },
   "file_extension": ".py",
   "mimetype": "text/x-python",
   "name": "python",
   "nbconvert_exporter": "python",
   "pygments_lexer": "ipython3",
   "version": "3.11.4"
  }
 },
 "nbformat": 4,
 "nbformat_minor": 2
}
